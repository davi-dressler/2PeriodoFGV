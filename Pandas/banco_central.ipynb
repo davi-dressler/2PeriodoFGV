{
 "cells": [
  {
   "cell_type": "code",
   "execution_count": null,
   "id": "7257e5fb",
   "metadata": {},
   "outputs": [],
   "source": []
  }
 ],
 "metadata": {
  "language_info": {
   "name": "python"
  }
 },
 "nbformat": 4,
 "nbformat_minor": 5
}
